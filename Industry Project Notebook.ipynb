{
 "cells": [
  {
   "cell_type": "markdown",
   "id": "cd271c86",
   "metadata": {},
   "source": [
    "# Making Dashboard Data\n",
    "\n",
    "In this section I will be creating some data to upload to Tableau to create a dashboard. This data will be created randomly using the random module and the numpy random functions. \n",
    "\n",
    "I will be creating the following columns\n",
    "\n",
    "* Shopify User Tabs\n",
    "    * list of all the tabs on user website. Taken from free trial page.\n",
    "\n",
    "* Common User Problems\n",
    "    * List made up by me of common user problems\n",
    "    \n",
    "* Source of Help\n",
    "    * Potential sources of help for these problems\n",
    "    \n",
    "* Mentor Requested (Binary)\n",
    "    * Did the user request a mentor\n",
    "    \n",
    "* Mentor Responded (Binary)\n",
    "    * Did the mentor repsond\n",
    "\n",
    "* Mentors (shout out the Friendly 15)\n",
    "    * List of mentors\n",
    "    \n",
    "* Problem Solved (Binary: would be the target variable)\n",
    "    * Did the user get the help they needed. \n",
    "\n",
    "* Date and Help Calls by Day\n",
    "    * For line plot \n",
    "\n",
    "\n",
    "\n",
    "These will be turned into to dataframes, downloaded as CSVs and then uploaded to Tableaub"
   ]
  },
  {
   "cell_type": "markdown",
   "id": "be8bdff4",
   "metadata": {},
   "source": [
    "## Shopify tabs\n",
    "These items in the list below represent all the pages on the Shopify user site. They will be chosen at random with replacements 1000 times. "
   ]
  },
  {
   "cell_type": "code",
   "execution_count": 1,
   "id": "b15a2aca",
   "metadata": {
    "ExecuteTime": {
     "end_time": "2022-05-20T14:50:20.536714Z",
     "start_time": "2022-05-20T14:50:20.507401Z"
    }
   },
   "outputs": [
    {
     "data": {
      "text/plain": [
       "['Orders',\n",
       " 'Finances',\n",
       " 'Analytics',\n",
       " 'Apps',\n",
       " 'Analytics',\n",
       " 'Marketing',\n",
       " 'Analytics',\n",
       " 'Apps',\n",
       " 'Orders',\n",
       " 'Orders',\n",
       " 'Discounts',\n",
       " 'Apps',\n",
       " 'Orders',\n",
       " 'Orders',\n",
       " 'Home',\n",
       " 'Orders',\n",
       " 'Products',\n",
       " 'Apps',\n",
       " 'Apps',\n",
       " 'Marketing',\n",
       " 'Orders',\n",
       " 'Products',\n",
       " 'Customers',\n",
       " 'Orders',\n",
       " 'Marketing',\n",
       " 'Orders',\n",
       " 'Orders',\n",
       " 'Products',\n",
       " 'Marketing',\n",
       " 'Analytics',\n",
       " 'Home',\n",
       " 'Home',\n",
       " 'Finances',\n",
       " 'Orders',\n",
       " 'Home',\n",
       " 'Analytics',\n",
       " 'Orders',\n",
       " 'Apps',\n",
       " 'Apps',\n",
       " 'Apps',\n",
       " 'Marketing',\n",
       " 'Marketing',\n",
       " 'Apps',\n",
       " 'Marketing',\n",
       " 'Marketing',\n",
       " 'Orders',\n",
       " 'Apps',\n",
       " 'Analytics',\n",
       " 'Home',\n",
       " 'Apps',\n",
       " 'Customers',\n",
       " 'Orders',\n",
       " 'Analytics',\n",
       " 'Home',\n",
       " 'Analytics',\n",
       " 'Finances',\n",
       " 'Analytics',\n",
       " 'Products',\n",
       " 'Analytics',\n",
       " 'Marketing',\n",
       " 'Apps',\n",
       " 'Products',\n",
       " 'Apps',\n",
       " 'Analytics',\n",
       " 'Apps',\n",
       " 'Apps',\n",
       " 'Home',\n",
       " 'Marketing',\n",
       " 'Orders',\n",
       " 'Products',\n",
       " 'Apps',\n",
       " 'Finances',\n",
       " 'Analytics',\n",
       " 'Apps',\n",
       " 'Marketing',\n",
       " 'Apps',\n",
       " 'Apps',\n",
       " 'Home',\n",
       " 'Analytics',\n",
       " 'Marketing',\n",
       " 'Apps',\n",
       " 'Analytics',\n",
       " 'Analytics',\n",
       " 'Apps',\n",
       " 'Finances',\n",
       " 'Marketing',\n",
       " 'Orders',\n",
       " 'Apps',\n",
       " 'Orders',\n",
       " 'Apps',\n",
       " 'Products',\n",
       " 'Marketing',\n",
       " 'Orders',\n",
       " 'Apps',\n",
       " 'Marketing',\n",
       " 'Marketing',\n",
       " 'Apps',\n",
       " 'Analytics',\n",
       " 'Marketing',\n",
       " 'Customers',\n",
       " 'Apps',\n",
       " 'Apps',\n",
       " 'Home',\n",
       " 'Orders',\n",
       " 'Products',\n",
       " 'Customers',\n",
       " 'Home',\n",
       " 'Home',\n",
       " 'Orders',\n",
       " 'Orders',\n",
       " 'Home',\n",
       " 'Orders',\n",
       " 'Analytics',\n",
       " 'Orders',\n",
       " 'Orders',\n",
       " 'Customers',\n",
       " 'Orders',\n",
       " 'Marketing',\n",
       " 'Apps',\n",
       " 'Products',\n",
       " 'Orders',\n",
       " 'Marketing',\n",
       " 'Customers',\n",
       " 'Apps',\n",
       " 'Apps',\n",
       " 'Marketing',\n",
       " 'Customers',\n",
       " 'Apps',\n",
       " 'Finances',\n",
       " 'Orders',\n",
       " 'Apps',\n",
       " 'Home',\n",
       " 'Finances',\n",
       " 'Home',\n",
       " 'Apps',\n",
       " 'Customers',\n",
       " 'Orders',\n",
       " 'Orders',\n",
       " 'Apps',\n",
       " 'Orders',\n",
       " 'Finances',\n",
       " 'Orders',\n",
       " 'Analytics',\n",
       " 'Apps',\n",
       " 'Customers',\n",
       " 'Orders',\n",
       " 'Apps',\n",
       " 'Apps',\n",
       " 'Apps',\n",
       " 'Products',\n",
       " 'Home',\n",
       " 'Home',\n",
       " 'Customers',\n",
       " 'Analytics',\n",
       " 'Home',\n",
       " 'Orders',\n",
       " 'Customers',\n",
       " 'Apps',\n",
       " 'Apps',\n",
       " 'Apps',\n",
       " 'Products',\n",
       " 'Finances',\n",
       " 'Orders',\n",
       " 'Customers',\n",
       " 'Home',\n",
       " 'Customers',\n",
       " 'Apps',\n",
       " 'Orders',\n",
       " 'Marketing',\n",
       " 'Orders',\n",
       " 'Home',\n",
       " 'Orders',\n",
       " 'Analytics',\n",
       " 'Orders',\n",
       " 'Analytics',\n",
       " 'Orders',\n",
       " 'Analytics',\n",
       " 'Home',\n",
       " 'Apps',\n",
       " 'Apps',\n",
       " 'Customers',\n",
       " 'Finances',\n",
       " 'Apps',\n",
       " 'Finances',\n",
       " 'Orders',\n",
       " 'Orders',\n",
       " 'Apps',\n",
       " 'Customers',\n",
       " 'Apps',\n",
       " 'Apps',\n",
       " 'Analytics',\n",
       " 'Analytics',\n",
       " 'Products',\n",
       " 'Orders',\n",
       " 'Customers',\n",
       " 'Marketing',\n",
       " 'Analytics',\n",
       " 'Orders',\n",
       " 'Apps',\n",
       " 'Apps',\n",
       " 'Orders',\n",
       " 'Apps',\n",
       " 'Apps',\n",
       " 'Marketing',\n",
       " 'Apps',\n",
       " 'Analytics',\n",
       " 'Apps',\n",
       " 'Apps',\n",
       " 'Orders',\n",
       " 'Finances',\n",
       " 'Finances',\n",
       " 'Orders',\n",
       " 'Home',\n",
       " 'Marketing',\n",
       " 'Apps',\n",
       " 'Apps',\n",
       " 'Orders',\n",
       " 'Analytics',\n",
       " 'Apps',\n",
       " 'Analytics',\n",
       " 'Apps',\n",
       " 'Orders',\n",
       " 'Apps',\n",
       " 'Analytics',\n",
       " 'Orders',\n",
       " 'Home',\n",
       " 'Apps',\n",
       " 'Finances',\n",
       " 'Orders',\n",
       " 'Orders',\n",
       " 'Marketing',\n",
       " 'Analytics',\n",
       " 'Marketing',\n",
       " 'Apps',\n",
       " 'Products',\n",
       " 'Orders',\n",
       " 'Orders',\n",
       " 'Home',\n",
       " 'Finances',\n",
       " 'Orders',\n",
       " 'Marketing',\n",
       " 'Analytics',\n",
       " 'Customers',\n",
       " 'Analytics',\n",
       " 'Analytics',\n",
       " 'Orders',\n",
       " 'Apps',\n",
       " 'Analytics',\n",
       " 'Products',\n",
       " 'Products',\n",
       " 'Analytics',\n",
       " 'Finances',\n",
       " 'Finances',\n",
       " 'Apps',\n",
       " 'Apps',\n",
       " 'Finances',\n",
       " 'Finances',\n",
       " 'Apps',\n",
       " 'Finances',\n",
       " 'Apps',\n",
       " 'Discounts',\n",
       " 'Analytics',\n",
       " 'Apps',\n",
       " 'Home',\n",
       " 'Apps',\n",
       " 'Finances',\n",
       " 'Apps',\n",
       " 'Orders',\n",
       " 'Customers',\n",
       " 'Apps',\n",
       " 'Products',\n",
       " 'Analytics',\n",
       " 'Apps',\n",
       " 'Analytics',\n",
       " 'Finances',\n",
       " 'Apps',\n",
       " 'Orders',\n",
       " 'Apps',\n",
       " 'Products',\n",
       " 'Orders',\n",
       " 'Orders',\n",
       " 'Orders',\n",
       " 'Apps',\n",
       " 'Products',\n",
       " 'Apps',\n",
       " 'Analytics',\n",
       " 'Finances',\n",
       " 'Marketing',\n",
       " 'Orders',\n",
       " 'Orders',\n",
       " 'Orders',\n",
       " 'Finances',\n",
       " 'Orders',\n",
       " 'Home',\n",
       " 'Apps',\n",
       " 'Marketing',\n",
       " 'Home',\n",
       " 'Analytics',\n",
       " 'Apps',\n",
       " 'Home',\n",
       " 'Finances',\n",
       " 'Home',\n",
       " 'Products',\n",
       " 'Products',\n",
       " 'Orders',\n",
       " 'Marketing',\n",
       " 'Orders',\n",
       " 'Orders',\n",
       " 'Analytics',\n",
       " 'Marketing',\n",
       " 'Apps',\n",
       " 'Analytics',\n",
       " 'Finances',\n",
       " 'Marketing',\n",
       " 'Apps',\n",
       " 'Apps',\n",
       " 'Marketing',\n",
       " 'Apps',\n",
       " 'Home',\n",
       " 'Orders',\n",
       " 'Apps',\n",
       " 'Apps',\n",
       " 'Marketing',\n",
       " 'Finances',\n",
       " 'Analytics',\n",
       " 'Products',\n",
       " 'Home',\n",
       " 'Marketing',\n",
       " 'Analytics',\n",
       " 'Apps',\n",
       " 'Marketing',\n",
       " 'Home',\n",
       " 'Home',\n",
       " 'Marketing',\n",
       " 'Orders',\n",
       " 'Home',\n",
       " 'Orders',\n",
       " 'Apps',\n",
       " 'Orders',\n",
       " 'Analytics',\n",
       " 'Apps',\n",
       " 'Orders',\n",
       " 'Analytics',\n",
       " 'Finances',\n",
       " 'Finances',\n",
       " 'Home',\n",
       " 'Apps',\n",
       " 'Marketing',\n",
       " 'Apps',\n",
       " 'Orders',\n",
       " 'Marketing',\n",
       " 'Home',\n",
       " 'Orders',\n",
       " 'Apps',\n",
       " 'Marketing',\n",
       " 'Apps',\n",
       " 'Apps',\n",
       " 'Home',\n",
       " 'Orders',\n",
       " 'Apps',\n",
       " 'Marketing',\n",
       " 'Apps',\n",
       " 'Apps',\n",
       " 'Marketing',\n",
       " 'Orders',\n",
       " 'Marketing',\n",
       " 'Orders',\n",
       " 'Orders',\n",
       " 'Orders',\n",
       " 'Analytics',\n",
       " 'Apps',\n",
       " 'Apps',\n",
       " 'Orders',\n",
       " 'Apps',\n",
       " 'Home',\n",
       " 'Home',\n",
       " 'Analytics',\n",
       " 'Marketing',\n",
       " 'Orders',\n",
       " 'Marketing',\n",
       " 'Marketing',\n",
       " 'Orders',\n",
       " 'Home',\n",
       " 'Orders',\n",
       " 'Finances',\n",
       " 'Marketing',\n",
       " 'Apps',\n",
       " 'Orders',\n",
       " 'Marketing',\n",
       " 'Apps',\n",
       " 'Orders',\n",
       " 'Home',\n",
       " 'Home',\n",
       " 'Home',\n",
       " 'Marketing',\n",
       " 'Analytics',\n",
       " 'Marketing',\n",
       " 'Apps',\n",
       " 'Home',\n",
       " 'Apps',\n",
       " 'Marketing',\n",
       " 'Orders',\n",
       " 'Products',\n",
       " 'Marketing',\n",
       " 'Analytics',\n",
       " 'Apps',\n",
       " 'Finances',\n",
       " 'Products',\n",
       " 'Analytics',\n",
       " 'Apps',\n",
       " 'Orders',\n",
       " 'Finances',\n",
       " 'Apps',\n",
       " 'Orders',\n",
       " 'Analytics',\n",
       " 'Orders',\n",
       " 'Finances',\n",
       " 'Discounts',\n",
       " 'Discounts',\n",
       " 'Marketing',\n",
       " 'Apps',\n",
       " 'Analytics',\n",
       " 'Marketing',\n",
       " 'Apps',\n",
       " 'Analytics',\n",
       " 'Finances',\n",
       " 'Finances',\n",
       " 'Home',\n",
       " 'Products',\n",
       " 'Apps',\n",
       " 'Orders',\n",
       " 'Orders',\n",
       " 'Apps',\n",
       " 'Apps',\n",
       " 'Apps',\n",
       " 'Orders',\n",
       " 'Orders',\n",
       " 'Marketing',\n",
       " 'Apps',\n",
       " 'Analytics',\n",
       " 'Orders',\n",
       " 'Products',\n",
       " 'Products',\n",
       " 'Orders',\n",
       " 'Customers',\n",
       " 'Marketing',\n",
       " 'Finances',\n",
       " 'Orders',\n",
       " 'Marketing',\n",
       " 'Analytics',\n",
       " 'Apps',\n",
       " 'Analytics',\n",
       " 'Orders',\n",
       " 'Marketing',\n",
       " 'Apps',\n",
       " 'Orders',\n",
       " 'Home',\n",
       " 'Orders',\n",
       " 'Orders',\n",
       " 'Marketing',\n",
       " 'Orders',\n",
       " 'Marketing',\n",
       " 'Apps',\n",
       " 'Apps',\n",
       " 'Finances',\n",
       " 'Finances',\n",
       " 'Home',\n",
       " 'Apps',\n",
       " 'Apps',\n",
       " 'Finances',\n",
       " 'Marketing',\n",
       " 'Marketing',\n",
       " 'Apps',\n",
       " 'Orders',\n",
       " 'Finances',\n",
       " 'Marketing',\n",
       " 'Orders',\n",
       " 'Apps',\n",
       " 'Analytics',\n",
       " 'Analytics',\n",
       " 'Orders',\n",
       " 'Apps',\n",
       " 'Orders',\n",
       " 'Apps',\n",
       " 'Orders',\n",
       " 'Apps',\n",
       " 'Apps',\n",
       " 'Apps',\n",
       " 'Home',\n",
       " 'Customers',\n",
       " 'Analytics',\n",
       " 'Analytics',\n",
       " 'Orders',\n",
       " 'Apps',\n",
       " 'Marketing',\n",
       " 'Customers',\n",
       " 'Customers',\n",
       " 'Finances',\n",
       " 'Analytics',\n",
       " 'Finances',\n",
       " 'Orders',\n",
       " 'Products',\n",
       " 'Marketing',\n",
       " 'Analytics',\n",
       " 'Analytics',\n",
       " 'Orders',\n",
       " 'Apps',\n",
       " 'Apps',\n",
       " 'Apps',\n",
       " 'Apps',\n",
       " 'Orders',\n",
       " 'Home',\n",
       " 'Analytics',\n",
       " 'Orders',\n",
       " 'Apps',\n",
       " 'Analytics',\n",
       " 'Orders',\n",
       " 'Orders',\n",
       " 'Marketing',\n",
       " 'Products',\n",
       " 'Orders',\n",
       " 'Analytics',\n",
       " 'Apps',\n",
       " 'Orders',\n",
       " 'Analytics',\n",
       " 'Orders',\n",
       " 'Finances',\n",
       " 'Apps',\n",
       " 'Orders',\n",
       " 'Analytics',\n",
       " 'Finances',\n",
       " 'Analytics',\n",
       " 'Analytics',\n",
       " 'Marketing',\n",
       " 'Marketing',\n",
       " 'Apps',\n",
       " 'Marketing',\n",
       " 'Analytics',\n",
       " 'Analytics',\n",
       " 'Apps',\n",
       " 'Products',\n",
       " 'Apps',\n",
       " 'Marketing',\n",
       " 'Orders',\n",
       " 'Products',\n",
       " 'Apps',\n",
       " 'Apps',\n",
       " 'Analytics',\n",
       " 'Apps',\n",
       " 'Analytics',\n",
       " 'Apps',\n",
       " 'Apps',\n",
       " 'Apps',\n",
       " 'Apps',\n",
       " 'Marketing',\n",
       " 'Analytics',\n",
       " 'Products',\n",
       " 'Home',\n",
       " 'Marketing',\n",
       " 'Finances',\n",
       " 'Orders',\n",
       " 'Apps',\n",
       " 'Orders',\n",
       " 'Home',\n",
       " 'Orders',\n",
       " 'Apps',\n",
       " 'Apps',\n",
       " 'Home',\n",
       " 'Marketing',\n",
       " 'Apps',\n",
       " 'Apps',\n",
       " 'Analytics',\n",
       " 'Marketing',\n",
       " 'Marketing',\n",
       " 'Marketing',\n",
       " 'Orders',\n",
       " 'Products',\n",
       " 'Orders',\n",
       " 'Apps',\n",
       " 'Finances',\n",
       " 'Apps',\n",
       " 'Marketing',\n",
       " 'Analytics',\n",
       " 'Analytics',\n",
       " 'Orders',\n",
       " 'Orders',\n",
       " 'Apps',\n",
       " 'Home',\n",
       " 'Analytics',\n",
       " 'Products',\n",
       " 'Marketing',\n",
       " 'Marketing',\n",
       " 'Analytics',\n",
       " 'Orders',\n",
       " 'Marketing',\n",
       " 'Orders',\n",
       " 'Orders',\n",
       " 'Marketing',\n",
       " 'Customers',\n",
       " 'Home',\n",
       " 'Analytics',\n",
       " 'Products',\n",
       " 'Home',\n",
       " 'Finances',\n",
       " 'Analytics',\n",
       " 'Orders',\n",
       " 'Apps',\n",
       " 'Apps',\n",
       " 'Orders',\n",
       " 'Apps',\n",
       " 'Orders',\n",
       " 'Apps',\n",
       " 'Apps',\n",
       " 'Analytics',\n",
       " 'Finances',\n",
       " 'Home',\n",
       " 'Analytics',\n",
       " 'Analytics',\n",
       " 'Marketing',\n",
       " 'Analytics',\n",
       " 'Analytics',\n",
       " 'Apps',\n",
       " 'Marketing',\n",
       " 'Analytics',\n",
       " 'Apps',\n",
       " 'Marketing',\n",
       " 'Apps',\n",
       " 'Home',\n",
       " 'Marketing',\n",
       " 'Apps',\n",
       " 'Home',\n",
       " 'Marketing',\n",
       " 'Products',\n",
       " 'Analytics',\n",
       " 'Orders',\n",
       " 'Finances',\n",
       " 'Home',\n",
       " 'Finances',\n",
       " 'Products',\n",
       " 'Apps',\n",
       " 'Orders',\n",
       " 'Analytics',\n",
       " 'Analytics',\n",
       " 'Finances',\n",
       " 'Orders',\n",
       " 'Orders',\n",
       " 'Orders',\n",
       " 'Apps',\n",
       " 'Apps',\n",
       " 'Orders',\n",
       " 'Analytics',\n",
       " 'Home',\n",
       " 'Orders',\n",
       " 'Analytics',\n",
       " 'Marketing',\n",
       " 'Orders',\n",
       " 'Analytics',\n",
       " 'Orders',\n",
       " 'Apps',\n",
       " 'Analytics',\n",
       " 'Analytics',\n",
       " 'Marketing',\n",
       " 'Analytics',\n",
       " 'Marketing',\n",
       " 'Apps',\n",
       " 'Marketing',\n",
       " 'Orders',\n",
       " 'Orders',\n",
       " 'Marketing',\n",
       " 'Apps',\n",
       " 'Marketing',\n",
       " 'Marketing',\n",
       " 'Apps',\n",
       " 'Customers',\n",
       " 'Apps',\n",
       " 'Finances',\n",
       " 'Marketing',\n",
       " 'Apps',\n",
       " 'Home',\n",
       " 'Orders',\n",
       " 'Home',\n",
       " 'Apps',\n",
       " 'Marketing',\n",
       " 'Apps',\n",
       " 'Apps',\n",
       " 'Finances',\n",
       " 'Analytics',\n",
       " 'Apps',\n",
       " 'Apps',\n",
       " 'Apps',\n",
       " 'Apps',\n",
       " 'Apps',\n",
       " 'Discounts',\n",
       " 'Home',\n",
       " 'Products',\n",
       " 'Orders',\n",
       " 'Apps',\n",
       " 'Analytics',\n",
       " 'Apps',\n",
       " 'Analytics',\n",
       " 'Orders',\n",
       " 'Home',\n",
       " 'Customers',\n",
       " 'Home',\n",
       " 'Home',\n",
       " 'Finances',\n",
       " 'Marketing',\n",
       " 'Orders',\n",
       " 'Home',\n",
       " 'Apps',\n",
       " 'Orders',\n",
       " 'Marketing',\n",
       " 'Marketing',\n",
       " 'Marketing',\n",
       " 'Orders',\n",
       " 'Analytics',\n",
       " 'Home',\n",
       " 'Orders',\n",
       " 'Finances',\n",
       " 'Home',\n",
       " 'Apps',\n",
       " 'Marketing',\n",
       " 'Orders',\n",
       " 'Customers',\n",
       " 'Orders',\n",
       " 'Orders',\n",
       " 'Customers',\n",
       " 'Orders',\n",
       " 'Home',\n",
       " 'Products',\n",
       " 'Customers',\n",
       " 'Home',\n",
       " 'Customers',\n",
       " 'Analytics',\n",
       " 'Analytics',\n",
       " 'Orders',\n",
       " 'Orders',\n",
       " 'Home',\n",
       " 'Analytics',\n",
       " 'Home',\n",
       " 'Apps',\n",
       " 'Orders',\n",
       " 'Apps',\n",
       " 'Analytics',\n",
       " 'Marketing',\n",
       " 'Apps',\n",
       " 'Customers',\n",
       " 'Products',\n",
       " 'Marketing',\n",
       " 'Analytics',\n",
       " 'Analytics',\n",
       " 'Analytics',\n",
       " 'Orders',\n",
       " 'Apps',\n",
       " 'Customers',\n",
       " 'Home',\n",
       " 'Home',\n",
       " 'Home',\n",
       " 'Apps',\n",
       " 'Finances',\n",
       " 'Marketing',\n",
       " 'Apps',\n",
       " 'Apps',\n",
       " 'Apps',\n",
       " 'Home',\n",
       " 'Apps',\n",
       " 'Home',\n",
       " 'Home',\n",
       " 'Apps',\n",
       " 'Apps',\n",
       " 'Marketing',\n",
       " 'Orders',\n",
       " 'Home',\n",
       " 'Orders',\n",
       " 'Apps',\n",
       " 'Orders',\n",
       " 'Apps',\n",
       " 'Analytics',\n",
       " 'Marketing',\n",
       " 'Products',\n",
       " 'Analytics',\n",
       " 'Finances',\n",
       " 'Orders',\n",
       " 'Products',\n",
       " 'Orders',\n",
       " 'Analytics',\n",
       " 'Customers',\n",
       " 'Orders',\n",
       " 'Apps',\n",
       " 'Apps',\n",
       " 'Analytics',\n",
       " 'Marketing',\n",
       " 'Apps',\n",
       " 'Marketing',\n",
       " 'Apps',\n",
       " 'Apps',\n",
       " 'Orders',\n",
       " 'Apps',\n",
       " 'Finances',\n",
       " 'Apps',\n",
       " 'Orders',\n",
       " 'Apps',\n",
       " 'Analytics',\n",
       " 'Apps',\n",
       " 'Orders',\n",
       " 'Home',\n",
       " 'Orders',\n",
       " 'Discounts',\n",
       " 'Home',\n",
       " 'Apps',\n",
       " 'Orders',\n",
       " 'Analytics',\n",
       " 'Analytics',\n",
       " 'Apps',\n",
       " 'Finances',\n",
       " 'Analytics',\n",
       " 'Analytics',\n",
       " 'Products',\n",
       " 'Marketing',\n",
       " 'Apps',\n",
       " 'Apps',\n",
       " 'Finances',\n",
       " 'Finances',\n",
       " 'Apps',\n",
       " 'Finances',\n",
       " 'Apps',\n",
       " 'Apps',\n",
       " 'Customers',\n",
       " 'Orders',\n",
       " 'Orders',\n",
       " 'Marketing',\n",
       " 'Finances',\n",
       " 'Home',\n",
       " 'Analytics',\n",
       " 'Apps',\n",
       " 'Analytics',\n",
       " 'Home',\n",
       " 'Apps',\n",
       " 'Apps',\n",
       " 'Marketing',\n",
       " 'Analytics',\n",
       " 'Products',\n",
       " 'Apps',\n",
       " 'Finances',\n",
       " 'Apps',\n",
       " 'Orders',\n",
       " 'Customers',\n",
       " 'Products',\n",
       " 'Finances',\n",
       " 'Customers',\n",
       " 'Apps',\n",
       " 'Marketing',\n",
       " 'Apps',\n",
       " 'Finances',\n",
       " 'Apps',\n",
       " 'Orders',\n",
       " 'Home',\n",
       " 'Analytics',\n",
       " 'Apps',\n",
       " 'Apps',\n",
       " 'Apps',\n",
       " 'Analytics',\n",
       " 'Apps',\n",
       " 'Orders',\n",
       " 'Marketing',\n",
       " 'Finances',\n",
       " 'Home',\n",
       " 'Apps',\n",
       " 'Products',\n",
       " 'Orders',\n",
       " 'Finances',\n",
       " 'Orders',\n",
       " 'Marketing',\n",
       " 'Analytics',\n",
       " 'Products',\n",
       " 'Apps',\n",
       " 'Home',\n",
       " 'Finances',\n",
       " 'Analytics',\n",
       " 'Orders',\n",
       " 'Apps',\n",
       " 'Orders',\n",
       " 'Marketing',\n",
       " 'Discounts',\n",
       " 'Orders',\n",
       " 'Analytics',\n",
       " 'Customers',\n",
       " 'Orders',\n",
       " 'Finances',\n",
       " 'Marketing',\n",
       " 'Apps',\n",
       " 'Marketing',\n",
       " 'Analytics',\n",
       " 'Products',\n",
       " 'Finances',\n",
       " 'Orders',\n",
       " 'Marketing',\n",
       " 'Analytics',\n",
       " 'Customers',\n",
       " 'Customers',\n",
       " 'Orders',\n",
       " 'Marketing',\n",
       " 'Products',\n",
       " 'Products',\n",
       " 'Home',\n",
       " 'Apps',\n",
       " 'Analytics',\n",
       " 'Products',\n",
       " 'Orders',\n",
       " 'Orders',\n",
       " 'Home',\n",
       " 'Home',\n",
       " 'Apps',\n",
       " 'Apps',\n",
       " 'Apps',\n",
       " 'Apps',\n",
       " 'Orders',\n",
       " 'Orders',\n",
       " 'Apps',\n",
       " 'Apps',\n",
       " 'Analytics',\n",
       " 'Customers',\n",
       " 'Orders',\n",
       " 'Analytics',\n",
       " 'Apps',\n",
       " 'Orders',\n",
       " 'Apps',\n",
       " 'Products',\n",
       " 'Customers',\n",
       " 'Customers',\n",
       " 'Discounts',\n",
       " 'Apps',\n",
       " 'Orders',\n",
       " 'Analytics',\n",
       " 'Apps',\n",
       " 'Marketing',\n",
       " 'Customers',\n",
       " 'Apps',\n",
       " 'Analytics',\n",
       " 'Products',\n",
       " 'Apps',\n",
       " 'Apps',\n",
       " 'Marketing',\n",
       " 'Products',\n",
       " 'Home',\n",
       " 'Apps',\n",
       " 'Apps',\n",
       " 'Orders',\n",
       " 'Apps',\n",
       " 'Analytics',\n",
       " 'Products',\n",
       " 'Analytics',\n",
       " 'Finances',\n",
       " 'Customers',\n",
       " 'Marketing',\n",
       " 'Finances',\n",
       " 'Customers',\n",
       " 'Products',\n",
       " 'Products',\n",
       " 'Finances',\n",
       " 'Customers',\n",
       " 'Analytics',\n",
       " 'Analytics',\n",
       " 'Marketing',\n",
       " 'Orders',\n",
       " 'Analytics',\n",
       " 'Products',\n",
       " 'Orders',\n",
       " 'Home',\n",
       " 'Analytics',\n",
       " 'Orders',\n",
       " 'Analytics',\n",
       " 'Home',\n",
       " 'Analytics',\n",
       " 'Analytics',\n",
       " 'Apps',\n",
       " 'Marketing',\n",
       " 'Analytics',\n",
       " 'Orders',\n",
       " 'Orders',\n",
       " 'Apps',\n",
       " 'Finances',\n",
       " 'Analytics',\n",
       " 'Customers',\n",
       " 'Marketing',\n",
       " 'Apps',\n",
       " 'Customers',\n",
       " 'Orders',\n",
       " 'Apps',\n",
       " 'Marketing',\n",
       " 'Orders',\n",
       " 'Apps',\n",
       " 'Apps',\n",
       " 'Finances',\n",
       " 'Finances',\n",
       " 'Apps',\n",
       " 'Apps',\n",
       " 'Marketing',\n",
       " 'Orders',\n",
       " 'Marketing']"
      ]
     },
     "execution_count": 1,
     "metadata": {},
     "output_type": "execute_result"
    }
   ],
   "source": [
    "#importing random \n",
    "import random\n",
    "\n",
    "#creating tabs list\n",
    "shopify_tabs = ['Home', 'Orders', 'Products', 'Customers', 'Finances',\n",
    "               'Analytics', 'Marketing', 'Discounts', 'Apps']\n",
    "\n",
    "#creating tab weights\n",
    "help_clicks = random.choices(shopify_tabs, weights = [10, 20, 5, 5, 8, 14, 13, 1, 25], k = 1000)\n",
    "\n",
    "help_clicks"
   ]
  },
  {
   "cell_type": "markdown",
   "id": "433c0ce1",
   "metadata": {},
   "source": [
    "## Reasons for help\n",
    "\n",
    "These were generated by me, but could easily be any number of common issues Shopify users run into. Again they will be selected at random 1,000 with replacements. "
   ]
  },
  {
   "cell_type": "code",
   "execution_count": 2,
   "id": "7544c0de",
   "metadata": {
    "ExecuteTime": {
     "end_time": "2022-05-20T14:50:20.543355Z",
     "start_time": "2022-05-20T14:50:20.540717Z"
    },
    "scrolled": true
   },
   "outputs": [],
   "source": [
    "#creating lists of help reasons\n",
    "click_reasons = ['App Functionality', 'Registration Help',\n",
    "                'Adding Promo Code', 'Accessing Data', 'other']\n",
    "\n",
    "#selecting 1,000 at random\n",
    "click_reason_list = random.choices(click_reasons,\n",
    "                                  weights = [6, 23, 5, 15, 13], k = 1000)\n",
    "\n"
   ]
  },
  {
   "cell_type": "markdown",
   "id": "c9f37593",
   "metadata": {},
   "source": [
    "## Help Source\n",
    "These represent the potential sources of help a User can receive through our button. This data will be used to show how Shopify might look at which channels are the most effective."
   ]
  },
  {
   "cell_type": "code",
   "execution_count": 3,
   "id": "18f97b86",
   "metadata": {
    "ExecuteTime": {
     "end_time": "2022-05-20T14:50:20.643483Z",
     "start_time": "2022-05-20T14:50:20.544463Z"
    }
   },
   "outputs": [
    {
     "ename": "NameError",
     "evalue": "name 'np' is not defined",
     "output_type": "error",
     "traceback": [
      "\u001b[0;31m---------------------------------------------------------------------------\u001b[0m",
      "\u001b[0;31mNameError\u001b[0m                                 Traceback (most recent call last)",
      "\u001b[0;32m/var/folders/q0/d4gqykqs2_z_10gmvbxcf1gc0000gn/T/ipykernel_4258/4229709145.py\u001b[0m in \u001b[0;36m<module>\u001b[0;34m\u001b[0m\n\u001b[1;32m      8\u001b[0m \u001b[0;32mfor\u001b[0m \u001b[0mi\u001b[0m \u001b[0;32min\u001b[0m \u001b[0mrange\u001b[0m\u001b[0;34m(\u001b[0m\u001b[0;36m0\u001b[0m\u001b[0;34m,\u001b[0m\u001b[0;36m1000\u001b[0m\u001b[0;34m)\u001b[0m\u001b[0;34m:\u001b[0m\u001b[0;34m\u001b[0m\u001b[0;34m\u001b[0m\u001b[0m\n\u001b[1;32m      9\u001b[0m \u001b[0;34m\u001b[0m\u001b[0m\n\u001b[0;32m---> 10\u001b[0;31m     \u001b[0mx\u001b[0m \u001b[0;34m=\u001b[0m \u001b[0mnp\u001b[0m\u001b[0;34m.\u001b[0m\u001b[0mrandom\u001b[0m\u001b[0;34m.\u001b[0m\u001b[0mrandint\u001b[0m\u001b[0;34m(\u001b[0m\u001b[0;36m1\u001b[0m\u001b[0;34m,\u001b[0m \u001b[0mlen\u001b[0m\u001b[0;34m(\u001b[0m\u001b[0mhelp_source\u001b[0m\u001b[0;34m)\u001b[0m\u001b[0;34m)\u001b[0m\u001b[0;34m\u001b[0m\u001b[0;34m\u001b[0m\u001b[0m\n\u001b[0m\u001b[1;32m     11\u001b[0m \u001b[0;34m\u001b[0m\u001b[0m\n\u001b[1;32m     12\u001b[0m     \u001b[0mhelp_source_df\u001b[0m\u001b[0;34m.\u001b[0m\u001b[0mappend\u001b[0m\u001b[0;34m(\u001b[0m\u001b[0mhelp_source\u001b[0m\u001b[0;34m[\u001b[0m\u001b[0mx\u001b[0m\u001b[0;34m]\u001b[0m\u001b[0;34m)\u001b[0m\u001b[0;34m\u001b[0m\u001b[0;34m\u001b[0m\u001b[0m\n",
      "\u001b[0;31mNameError\u001b[0m: name 'np' is not defined"
     ]
    }
   ],
   "source": [
    "#sources list\n",
    "help_source = ['Support Line', 'Help Link', 'Mentor', 'Community Hub']\n",
    "\n",
    "#empty list to appending into\n",
    "help_source_df = []\n",
    "\n",
    "#filling list with randomly selected items.\n",
    "for i in range(0,1000):\n",
    "    \n",
    "    x = np.random.randint(1, len(help_source))\n",
    "    \n",
    "    help_source_df.append(help_source[x])\n",
    "    \n",
    "help_source_df"
   ]
  },
  {
   "cell_type": "code",
   "execution_count": null,
   "id": "75725b06",
   "metadata": {
    "ExecuteTime": {
     "end_time": "2022-05-20T14:50:20.645061Z",
     "start_time": "2022-05-20T14:50:20.645053Z"
    }
   },
   "outputs": [],
   "source": [
    "#creating binary variable that represensts whether a customer resolved their issue\n",
    "\n",
    "#Creating list\n",
    "succesfully_helped = random.choices([0, 1], weights = [5, 10], k = 1000)\n",
    "\n",
    "#check step\n",
    "succesfully_helped"
   ]
  },
  {
   "cell_type": "markdown",
   "id": "ff2844bc",
   "metadata": {},
   "source": [
    "## Mentor Requested and Responded\n",
    "\n",
    "This is also a binary variable that represents whether or not a mentor was requested after the help button was pushed, and whether one responded or not."
   ]
  },
  {
   "cell_type": "code",
   "execution_count": null,
   "id": "210d75e3",
   "metadata": {
    "ExecuteTime": {
     "end_time": "2022-05-20T14:50:20.645690Z",
     "start_time": "2022-05-20T14:50:20.645682Z"
    }
   },
   "outputs": [],
   "source": [
    "#randomly selecting 0s and 1s\n",
    "mentor_requested = np.random.choice(2, size = 1000)\n",
    "\n",
    "mentor_requested"
   ]
  },
  {
   "cell_type": "code",
   "execution_count": null,
   "id": "40bf045a",
   "metadata": {
    "ExecuteTime": {
     "end_time": "2022-05-20T14:50:20.646287Z",
     "start_time": "2022-05-20T14:50:20.646280Z"
    }
   },
   "outputs": [],
   "source": [
    "#response binary\n",
    "mentor_responded = np.random.choice(2, size = 1000)\n",
    "\n",
    "mentor_responded = mentor_requested * mentor_responded\n"
   ]
  },
  {
   "cell_type": "markdown",
   "id": "acfa43dc",
   "metadata": {},
   "source": [
    "## Creating Mentor List\n",
    "\n",
    "This will be used to track our most valuable Mentors"
   ]
  },
  {
   "cell_type": "code",
   "execution_count": null,
   "id": "9974530f",
   "metadata": {
    "ExecuteTime": {
     "end_time": "2022-05-20T14:50:20.646799Z",
     "start_time": "2022-05-20T14:50:20.646791Z"
    }
   },
   "outputs": [],
   "source": [
    "mentors = ['Ben', 'Chantal', 'Maya', 'Natanael', 'Shaneel', 'Yik', 'Fahd']\n",
    "\n",
    "responders = []\n",
    "\n",
    "for i in range(0, len(mentor_responded)):\n",
    "    if mentor_responded[i] == 1:\n",
    "        \n",
    "        x = np.random.choice(len(mentors))\n",
    "        \n",
    "        responders.append(mentors[x])\n",
    "        \n",
    "    else:\n",
    "        responders.append('Not Requested')"
   ]
  },
  {
   "cell_type": "markdown",
   "id": "b908c3e6",
   "metadata": {},
   "source": [
    "### Data Frame\n",
    "\n",
    "Creating a data frame of all the data above to use in Tableau."
   ]
  },
  {
   "cell_type": "code",
   "execution_count": null,
   "id": "116c5459",
   "metadata": {
    "ExecuteTime": {
     "end_time": "2022-05-20T14:50:20.647445Z",
     "start_time": "2022-05-20T14:50:20.647438Z"
    }
   },
   "outputs": [],
   "source": [
    "#creating dataframe\n",
    "tableau_data = pd.DataFrame({\"Where they Clicked\": help_clicks,\n",
    "                             \"Whey they Clicked\": click_reason_list,\n",
    "                             \"Help Source\": help_source_df,\n",
    "                             \"Successfully Helped\": succesfully_helped,\n",
    "                             \"Mentor Requested\": mentor_requested,\n",
    "                             \"Mentor Responded\": mentor_responded,\n",
    "                             \"Mentor\": responders})\n",
    "#check step\n",
    "tableau_data"
   ]
  },
  {
   "cell_type": "markdown",
   "id": "aea3005f",
   "metadata": {},
   "source": [
    "## Clicks By date\n",
    "\n",
    "This will be used to make a plot of help button clicks in the course of a month. In this case, the month is January 2022. The data is artificially made to see a spike in clicks, so our team can discuss the benefits of this functionality in our presentation.  \n",
    "\n"
   ]
  },
  {
   "cell_type": "markdown",
   "id": "decee195",
   "metadata": {},
   "source": [
    "## Creating Dates\n",
    "\n",
    "I will use the pd.date_range function to create a range from 1/1/2022 to 1/31/2022"
   ]
  },
  {
   "cell_type": "code",
   "execution_count": null,
   "id": "25f2a18a",
   "metadata": {
    "ExecuteTime": {
     "end_time": "2022-05-20T14:50:20.648022Z",
     "start_time": "2022-05-20T14:50:20.648015Z"
    }
   },
   "outputs": [],
   "source": [
    "#creating DF\n",
    "line_plot_df = pd.DataFrame()\n",
    "\n",
    "\n",
    "#creating date column\n",
    "line_plot_df['Date'] = pd.date_range(start = '1/1/2022', end = '1/31/2022')\n",
    "\n",
    "#check step\n",
    "line_plot_df"
   ]
  },
  {
   "cell_type": "markdown",
   "id": "de8ee220",
   "metadata": {},
   "source": [
    "Now I will create a list of clicks ranging from 110 to 150. These are arbitrary numbers as I am not sure how many clicks this service will produce. "
   ]
  },
  {
   "cell_type": "code",
   "execution_count": null,
   "id": "efb8ed70",
   "metadata": {
    "ExecuteTime": {
     "end_time": "2022-05-20T14:50:20.648683Z",
     "start_time": "2022-05-20T14:50:20.648676Z"
    }
   },
   "outputs": [],
   "source": [
    "#setting range\n",
    "click_range = np.arange(110, 150)\n",
    "\n",
    "#selecting randomly from range above\n",
    "help_clicks = np.random.choice(click_range, 31)\n",
    "\n",
    "#checking \n",
    "help_clicks"
   ]
  },
  {
   "cell_type": "markdown",
   "id": "7a720fdf",
   "metadata": {},
   "source": [
    "Now I am going to shrink the first two points and the 20-24th points. This is for demonstration purposes."
   ]
  },
  {
   "cell_type": "code",
   "execution_count": null,
   "id": "02662f3d",
   "metadata": {
    "ExecuteTime": {
     "end_time": "2022-05-20T14:50:20.649181Z",
     "start_time": "2022-05-20T14:50:20.649175Z"
    }
   },
   "outputs": [],
   "source": [
    "#shrinking first two points\n",
    "help_clicks[:2] = help_clicks[:2] * 0.75\n",
    "\n",
    "help_clicks"
   ]
  },
  {
   "cell_type": "code",
   "execution_count": null,
   "id": "d43668aa",
   "metadata": {
    "ExecuteTime": {
     "end_time": "2022-05-20T14:50:20.649905Z",
     "start_time": "2022-05-20T14:50:20.649897Z"
    }
   },
   "outputs": [],
   "source": [
    "#increasing\n",
    "help_clicks[19:23] = help_clicks[19:23] * 1.5\n",
    "\n",
    "help_clicks"
   ]
  },
  {
   "cell_type": "code",
   "execution_count": null,
   "id": "480c6305",
   "metadata": {
    "ExecuteTime": {
     "end_time": "2022-05-20T14:50:20.650625Z",
     "start_time": "2022-05-20T14:50:20.650618Z"
    }
   },
   "outputs": [],
   "source": [
    "line_plot_df['Total Clicks'] = help_clicks\n",
    "\n",
    "line_plot_df"
   ]
  },
  {
   "cell_type": "markdown",
   "id": "41f93a41",
   "metadata": {},
   "source": [
    "Now that this data has been created I am going to save them as CSVs to upload to Tableau"
   ]
  },
  {
   "cell_type": "code",
   "execution_count": null,
   "id": "c49886f1",
   "metadata": {
    "ExecuteTime": {
     "end_time": "2022-05-20T14:50:20.651281Z",
     "start_time": "2022-05-20T14:50:20.651273Z"
    }
   },
   "outputs": [],
   "source": [
    "\n",
    "tableau_data.to_csv('/Users/benkatz/Desktop/Project Jupiter Notebooks/Industry Product/data/tableau_data.csv')\n",
    "\n",
    "line_plot_df.to_csv('/Users/benkatz/Desktop/Project Jupiter Notebooks/Industry Product/data/line_plot_data.csv')"
   ]
  },
  {
   "cell_type": "markdown",
   "id": "0ffc9518",
   "metadata": {},
   "source": [
    "# Preliminary NLP (Not used in Project)Kaggle Description\n",
    "\n",
    "The dataset contains information of 618K Shopify online stores. For each store, we provide it's title, description, and list of collections, collected from it's html homepage (see our blog post for data collection methods). Using basic NLP methods such as lemmatization, we provide some labels for each shop however, many of them have no labels because of uncertainty or non-english languages. Hence, the dataset is appropriate for semi-supervised multi-label classification."
   ]
  },
  {
   "cell_type": "code",
   "execution_count": null,
   "id": "fdc6a70c",
   "metadata": {},
   "outputs": [],
   "source": []
  },
  {
   "cell_type": "code",
   "execution_count": 1,
   "id": "7e3e1492",
   "metadata": {
    "ExecuteTime": {
     "end_time": "2022-03-25T16:19:35.514233Z",
     "start_time": "2022-03-25T16:19:34.617338Z"
    }
   },
   "outputs": [],
   "source": [
    "import pandas as pd\n",
    "import numpy as np\n",
    "import matplotlib.pyplot as plt\n"
   ]
  },
  {
   "cell_type": "code",
   "execution_count": null,
   "id": "e6a60d1c",
   "metadata": {},
   "outputs": [],
   "source": []
  },
  {
   "cell_type": "markdown",
   "id": "740c57dc",
   "metadata": {},
   "source": [
    "# reading in the data\n",
    "\n"
   ]
  },
  {
   "cell_type": "code",
   "execution_count": 2,
   "id": "9f91dfe9",
   "metadata": {
    "ExecuteTime": {
     "end_time": "2022-03-25T16:19:38.573320Z",
     "start_time": "2022-03-25T16:19:35.515387Z"
    }
   },
   "outputs": [
    {
     "data": {
      "text/html": [
       "<div>\n",
       "<style scoped>\n",
       "    .dataframe tbody tr th:only-of-type {\n",
       "        vertical-align: middle;\n",
       "    }\n",
       "\n",
       "    .dataframe tbody tr th {\n",
       "        vertical-align: top;\n",
       "    }\n",
       "\n",
       "    .dataframe thead th {\n",
       "        text-align: right;\n",
       "    }\n",
       "</style>\n",
       "<table border=\"1\" class=\"dataframe\">\n",
       "  <thead>\n",
       "    <tr style=\"text-align: right;\">\n",
       "      <th></th>\n",
       "      <th>Unnamed: 0</th>\n",
       "      <th>store_title</th>\n",
       "      <th>store_description</th>\n",
       "      <th>store_collections</th>\n",
       "      <th>store_labels</th>\n",
       "    </tr>\n",
       "  </thead>\n",
       "  <tbody>\n",
       "    <tr>\n",
       "      <th>0</th>\n",
       "      <td>0</td>\n",
       "      <td>Easestudio</td>\n",
       "      <td>NaN</td>\n",
       "      <td>festive 18, reverie festive 2019, spring summe...</td>\n",
       "      <td>[]</td>\n",
       "    </tr>\n",
       "    <tr>\n",
       "      <th>1</th>\n",
       "      <td>1</td>\n",
       "      <td>Mason - Super Thin iPhone Cases</td>\n",
       "      <td>The original super thin iPhone cases that perf...</td>\n",
       "      <td>iphone 11, iphone xs max, iphone x, iphone xr,...</td>\n",
       "      <td>['case', 'iphone', 'leather']</td>\n",
       "    </tr>\n",
       "    <tr>\n",
       "      <th>2</th>\n",
       "      <td>2</td>\n",
       "      <td>Chictypeaccessoires | accessoires mode homme b...</td>\n",
       "      <td>La boutique Chic Type est votre boutique d'acc...</td>\n",
       "      <td>noeud papillon, ceinture, les accessoires util...</td>\n",
       "      <td>['bracelet', 'boutique']</td>\n",
       "    </tr>\n",
       "    <tr>\n",
       "      <th>3</th>\n",
       "      <td>3</td>\n",
       "      <td>Le Corps Fitness</td>\n",
       "      <td>Le Corps Fitness</td>\n",
       "      <td>trainers, short sets, yoga sets, reine, one pi...</td>\n",
       "      <td>['fitness']</td>\n",
       "    </tr>\n",
       "    <tr>\n",
       "      <th>4</th>\n",
       "      <td>4</td>\n",
       "      <td>Womens fashions</td>\n",
       "      <td>Charming Lilly</td>\n",
       "      <td>charming glambam, charming accessories, swim c...</td>\n",
       "      <td>[]</td>\n",
       "    </tr>\n",
       "  </tbody>\n",
       "</table>\n",
       "</div>"
      ],
      "text/plain": [
       "   Unnamed: 0                                        store_title  \\\n",
       "0           0                                         Easestudio   \n",
       "1           1                    Mason - Super Thin iPhone Cases   \n",
       "2           2  Chictypeaccessoires | accessoires mode homme b...   \n",
       "3           3                                  Le Corps Fitness    \n",
       "4           4                                    Womens fashions   \n",
       "\n",
       "                                   store_description  \\\n",
       "0                                                NaN   \n",
       "1  The original super thin iPhone cases that perf...   \n",
       "2  La boutique Chic Type est votre boutique d'acc...   \n",
       "3                                  Le Corps Fitness    \n",
       "4                                     Charming Lilly   \n",
       "\n",
       "                                   store_collections  \\\n",
       "0  festive 18, reverie festive 2019, spring summe...   \n",
       "1  iphone 11, iphone xs max, iphone x, iphone xr,...   \n",
       "2  noeud papillon, ceinture, les accessoires util...   \n",
       "3  trainers, short sets, yoga sets, reine, one pi...   \n",
       "4  charming glambam, charming accessories, swim c...   \n",
       "\n",
       "                    store_labels  \n",
       "0                             []  \n",
       "1  ['case', 'iphone', 'leather']  \n",
       "2       ['bracelet', 'boutique']  \n",
       "3                    ['fitness']  \n",
       "4                             []  "
      ]
     },
     "execution_count": 2,
     "metadata": {},
     "output_type": "execute_result"
    }
   ],
   "source": [
    "store_df = pd.read_csv('/Users/benkatz/Downloads/stores_data.csv', lineterminator='\\n')\n",
    "store_df.head()"
   ]
  },
  {
   "cell_type": "code",
   "execution_count": 3,
   "id": "15ef51db",
   "metadata": {
    "ExecuteTime": {
     "end_time": "2022-03-25T16:19:38.576826Z",
     "start_time": "2022-03-25T16:19:38.574866Z"
    }
   },
   "outputs": [],
   "source": [
    "#pulling first collection\n",
    "label1 = store_df['store_labels'].iloc[1]"
   ]
  },
  {
   "cell_type": "code",
   "execution_count": 4,
   "id": "78567484",
   "metadata": {
    "ExecuteTime": {
     "end_time": "2022-03-25T16:19:38.579677Z",
     "start_time": "2022-03-25T16:19:38.577601Z"
    }
   },
   "outputs": [
    {
     "data": {
      "text/plain": [
       "\"['case', 'iphone', 'leather']\""
      ]
     },
     "execution_count": 4,
     "metadata": {},
     "output_type": "execute_result"
    }
   ],
   "source": [
    "#looking at labels\n",
    "label1"
   ]
  },
  {
   "cell_type": "code",
   "execution_count": 5,
   "id": "06b04611",
   "metadata": {
    "ExecuteTime": {
     "end_time": "2022-03-25T16:19:38.583108Z",
     "start_time": "2022-03-25T16:19:38.580417Z"
    }
   },
   "outputs": [
    {
     "data": {
      "text/plain": [
       "'case iphone leather'"
      ]
     },
     "execution_count": 5,
     "metadata": {},
     "output_type": "execute_result"
    }
   ],
   "source": [
    "#converting to string\n",
    "label_string = str(label1)\n",
    "\n",
    "#stripping string\n",
    "label_string.replace('[', '').replace(\"'\", \"\").replace(\",\", \"\").replace(\"]\", \"\")"
   ]
  },
  {
   "cell_type": "code",
   "execution_count": 6,
   "id": "0cd42edc",
   "metadata": {
    "ExecuteTime": {
     "end_time": "2022-03-25T16:19:38.618095Z",
     "start_time": "2022-03-25T16:19:38.584038Z"
    }
   },
   "outputs": [
    {
     "data": {
      "text/html": [
       "<div>\n",
       "<style scoped>\n",
       "    .dataframe tbody tr th:only-of-type {\n",
       "        vertical-align: middle;\n",
       "    }\n",
       "\n",
       "    .dataframe tbody tr th {\n",
       "        vertical-align: top;\n",
       "    }\n",
       "\n",
       "    .dataframe thead th {\n",
       "        text-align: right;\n",
       "    }\n",
       "</style>\n",
       "<table border=\"1\" class=\"dataframe\">\n",
       "  <thead>\n",
       "    <tr style=\"text-align: right;\">\n",
       "      <th></th>\n",
       "      <th>store_title</th>\n",
       "      <th>store_description</th>\n",
       "      <th>store_collections</th>\n",
       "      <th>store_labels</th>\n",
       "    </tr>\n",
       "  </thead>\n",
       "  <tbody>\n",
       "    <tr>\n",
       "      <th>0</th>\n",
       "      <td>Easestudio</td>\n",
       "      <td>NaN</td>\n",
       "      <td>festive 18, reverie festive 2019, spring summe...</td>\n",
       "      <td>[]</td>\n",
       "    </tr>\n",
       "    <tr>\n",
       "      <th>1</th>\n",
       "      <td>Mason - Super Thin iPhone Cases</td>\n",
       "      <td>The original super thin iPhone cases that perf...</td>\n",
       "      <td>iphone 11, iphone xs max, iphone x, iphone xr,...</td>\n",
       "      <td>['case', 'iphone', 'leather']</td>\n",
       "    </tr>\n",
       "    <tr>\n",
       "      <th>2</th>\n",
       "      <td>Chictypeaccessoires | accessoires mode homme b...</td>\n",
       "      <td>La boutique Chic Type est votre boutique d'acc...</td>\n",
       "      <td>noeud papillon, ceinture, les accessoires util...</td>\n",
       "      <td>['bracelet', 'boutique']</td>\n",
       "    </tr>\n",
       "    <tr>\n",
       "      <th>3</th>\n",
       "      <td>Le Corps Fitness</td>\n",
       "      <td>Le Corps Fitness</td>\n",
       "      <td>trainers, short sets, yoga sets, reine, one pi...</td>\n",
       "      <td>['fitness']</td>\n",
       "    </tr>\n",
       "    <tr>\n",
       "      <th>4</th>\n",
       "      <td>Womens fashions</td>\n",
       "      <td>Charming Lilly</td>\n",
       "      <td>charming glambam, charming accessories, swim c...</td>\n",
       "      <td>[]</td>\n",
       "    </tr>\n",
       "  </tbody>\n",
       "</table>\n",
       "</div>"
      ],
      "text/plain": [
       "                                         store_title  \\\n",
       "0                                         Easestudio   \n",
       "1                    Mason - Super Thin iPhone Cases   \n",
       "2  Chictypeaccessoires | accessoires mode homme b...   \n",
       "3                                  Le Corps Fitness    \n",
       "4                                    Womens fashions   \n",
       "\n",
       "                                   store_description  \\\n",
       "0                                                NaN   \n",
       "1  The original super thin iPhone cases that perf...   \n",
       "2  La boutique Chic Type est votre boutique d'acc...   \n",
       "3                                  Le Corps Fitness    \n",
       "4                                     Charming Lilly   \n",
       "\n",
       "                                   store_collections  \\\n",
       "0  festive 18, reverie festive 2019, spring summe...   \n",
       "1  iphone 11, iphone xs max, iphone x, iphone xr,...   \n",
       "2  noeud papillon, ceinture, les accessoires util...   \n",
       "3  trainers, short sets, yoga sets, reine, one pi...   \n",
       "4  charming glambam, charming accessories, swim c...   \n",
       "\n",
       "                    store_labels  \n",
       "0                             []  \n",
       "1  ['case', 'iphone', 'leather']  \n",
       "2       ['bracelet', 'boutique']  \n",
       "3                    ['fitness']  \n",
       "4                             []  "
      ]
     },
     "execution_count": 6,
     "metadata": {},
     "output_type": "execute_result"
    }
   ],
   "source": [
    "#dropping columns\n",
    "store_df.drop('Unnamed: 0', axis = 1, inplace=True)\n",
    "\n",
    "store_df.head()"
   ]
  },
  {
   "cell_type": "code",
   "execution_count": 7,
   "id": "429c4685",
   "metadata": {
    "ExecuteTime": {
     "end_time": "2022-03-25T16:19:38.621751Z",
     "start_time": "2022-03-25T16:19:38.619189Z"
    }
   },
   "outputs": [
    {
     "data": {
      "text/plain": [
       "Index(['store_title', 'store_description', 'store_collections',\n",
       "       'store_labels'],\n",
       "      dtype='object')"
      ]
     },
     "execution_count": 7,
     "metadata": {},
     "output_type": "execute_result"
    }
   ],
   "source": [
    "#for reference in slide above and check\n",
    "store_df.columns"
   ]
  },
  {
   "cell_type": "code",
   "execution_count": 8,
   "id": "365138e1",
   "metadata": {
    "ExecuteTime": {
     "end_time": "2022-03-25T16:19:38.881203Z",
     "start_time": "2022-03-25T16:19:38.622596Z"
    }
   },
   "outputs": [
    {
     "name": "stdout",
     "output_type": "stream",
     "text": [
      "<class 'pandas.core.frame.DataFrame'>\n",
      "RangeIndex: 618768 entries, 0 to 618767\n",
      "Data columns (total 4 columns):\n",
      " #   Column             Non-Null Count   Dtype \n",
      "---  ------             --------------   ----- \n",
      " 0   store_title        618128 non-null  object\n",
      " 1   store_description  592937 non-null  object\n",
      " 2   store_collections  539964 non-null  object\n",
      " 3   store_labels       618768 non-null  object\n",
      "dtypes: object(4)\n",
      "memory usage: 18.9+ MB\n"
     ]
    }
   ],
   "source": [
    "store_df.info()"
   ]
  },
  {
   "cell_type": "markdown",
   "id": "9dc2ec84",
   "metadata": {},
   "source": [
    "Now that replacement plan is in place, the procedure is as follows\n",
    "1. Pull all non empty store labels into a dataframe\n",
    "    * store_labels != []\n",
    "2. Strip marks off of store labels\n",
    "3. Use a count vectorizer to pull all of the different labels\n",
    "4. examine results"
   ]
  },
  {
   "cell_type": "markdown",
   "id": "11004590",
   "metadata": {},
   "source": [
    "## Pulling stores with labels\n",
    "\n",
    "In this section I will be pulling out the labels of each of the stores and trying to determine the most common, and potentially underrepresented areas. This section was not used in our project, but was explored. "
   ]
  },
  {
   "cell_type": "code",
   "execution_count": 9,
   "id": "755dc531",
   "metadata": {
    "ExecuteTime": {
     "end_time": "2022-03-25T16:19:38.950099Z",
     "start_time": "2022-03-25T16:19:38.883838Z"
    }
   },
   "outputs": [
    {
     "data": {
      "text/html": [
       "<div>\n",
       "<style scoped>\n",
       "    .dataframe tbody tr th:only-of-type {\n",
       "        vertical-align: middle;\n",
       "    }\n",
       "\n",
       "    .dataframe tbody tr th {\n",
       "        vertical-align: top;\n",
       "    }\n",
       "\n",
       "    .dataframe thead th {\n",
       "        text-align: right;\n",
       "    }\n",
       "</style>\n",
       "<table border=\"1\" class=\"dataframe\">\n",
       "  <thead>\n",
       "    <tr style=\"text-align: right;\">\n",
       "      <th></th>\n",
       "      <th>store_title</th>\n",
       "      <th>store_description</th>\n",
       "      <th>store_collections</th>\n",
       "      <th>store_labels</th>\n",
       "    </tr>\n",
       "  </thead>\n",
       "  <tbody>\n",
       "    <tr>\n",
       "      <th>1</th>\n",
       "      <td>Mason - Super Thin iPhone Cases</td>\n",
       "      <td>The original super thin iPhone cases that perf...</td>\n",
       "      <td>iphone 11, iphone xs max, iphone x, iphone xr,...</td>\n",
       "      <td>['case', 'iphone', 'leather']</td>\n",
       "    </tr>\n",
       "    <tr>\n",
       "      <th>2</th>\n",
       "      <td>Chictypeaccessoires | accessoires mode homme b...</td>\n",
       "      <td>La boutique Chic Type est votre boutique d'acc...</td>\n",
       "      <td>noeud papillon, ceinture, les accessoires util...</td>\n",
       "      <td>['bracelet', 'boutique']</td>\n",
       "    </tr>\n",
       "    <tr>\n",
       "      <th>3</th>\n",
       "      <td>Le Corps Fitness</td>\n",
       "      <td>Le Corps Fitness</td>\n",
       "      <td>trainers, short sets, yoga sets, reine, one pi...</td>\n",
       "      <td>['fitness']</td>\n",
       "    </tr>\n",
       "    <tr>\n",
       "      <th>5</th>\n",
       "      <td>American Jewel</td>\n",
       "      <td>American Jewel Accessories, Bags &amp; Beauty for ...</td>\n",
       "      <td>sale, yummy gummy purses, party bags, jewels, ...</td>\n",
       "      <td>['beauty', 'bag']</td>\n",
       "    </tr>\n",
       "    <tr>\n",
       "      <th>8</th>\n",
       "      <td>Ana illueca. Ceramics with Valencia character....</td>\n",
       "      <td>Ceramics with Valencia character. Plates, vase...</td>\n",
       "      <td>NaN</td>\n",
       "      <td>['ceramic']</td>\n",
       "    </tr>\n",
       "  </tbody>\n",
       "</table>\n",
       "</div>"
      ],
      "text/plain": [
       "                                         store_title  \\\n",
       "1                    Mason - Super Thin iPhone Cases   \n",
       "2  Chictypeaccessoires | accessoires mode homme b...   \n",
       "3                                  Le Corps Fitness    \n",
       "5                                     American Jewel   \n",
       "8  Ana illueca. Ceramics with Valencia character....   \n",
       "\n",
       "                                   store_description  \\\n",
       "1  The original super thin iPhone cases that perf...   \n",
       "2  La boutique Chic Type est votre boutique d'acc...   \n",
       "3                                  Le Corps Fitness    \n",
       "5  American Jewel Accessories, Bags & Beauty for ...   \n",
       "8  Ceramics with Valencia character. Plates, vase...   \n",
       "\n",
       "                                   store_collections  \\\n",
       "1  iphone 11, iphone xs max, iphone x, iphone xr,...   \n",
       "2  noeud papillon, ceinture, les accessoires util...   \n",
       "3  trainers, short sets, yoga sets, reine, one pi...   \n",
       "5  sale, yummy gummy purses, party bags, jewels, ...   \n",
       "8                                                NaN   \n",
       "\n",
       "                    store_labels  \n",
       "1  ['case', 'iphone', 'leather']  \n",
       "2       ['bracelet', 'boutique']  \n",
       "3                    ['fitness']  \n",
       "5              ['beauty', 'bag']  \n",
       "8                    ['ceramic']  "
      ]
     },
     "execution_count": 9,
     "metadata": {},
     "output_type": "execute_result"
    }
   ],
   "source": [
    "#pulling stores with labels\n",
    "stores_with_labels = store_df[store_df['store_labels'] != \"[]\"]\n",
    "\n",
    "#check step\n",
    "stores_with_labels.head()"
   ]
  },
  {
   "cell_type": "markdown",
   "id": "a14d2f44",
   "metadata": {},
   "source": [
    "## Stripping Marks\n",
    "Marks are the following:\n",
    "\n",
    "* [\n",
    "\n",
    "* ,\n",
    "\n",
    "* '\n",
    "\n",
    "* ]\n",
    "\n",
    "\n",
    "These will be replaced on at a time in the following code cells."
   ]
  },
  {
   "cell_type": "code",
   "execution_count": 10,
   "id": "92ab6a12",
   "metadata": {
    "ExecuteTime": {
     "end_time": "2022-03-25T16:19:39.221137Z",
     "start_time": "2022-03-25T16:19:38.951128Z"
    }
   },
   "outputs": [
    {
     "name": "stderr",
     "output_type": "stream",
     "text": [
      "/var/folders/q0/d4gqykqs2_z_10gmvbxcf1gc0000gn/T/ipykernel_1530/2246628912.py:2: FutureWarning: The default value of regex will change from True to False in a future version. In addition, single character regular expressions will *not* be treated as literal strings when regex=True.\n",
      "  stores_with_labels['store_labels'] = stores_with_labels['store_labels'].str.replace('[', '').replace(\"'\", \"\").replace(\",\", \"\").replace(\"]\", \"\")\n",
      "/var/folders/q0/d4gqykqs2_z_10gmvbxcf1gc0000gn/T/ipykernel_1530/2246628912.py:2: SettingWithCopyWarning: \n",
      "A value is trying to be set on a copy of a slice from a DataFrame.\n",
      "Try using .loc[row_indexer,col_indexer] = value instead\n",
      "\n",
      "See the caveats in the documentation: https://pandas.pydata.org/pandas-docs/stable/user_guide/indexing.html#returning-a-view-versus-a-copy\n",
      "  stores_with_labels['store_labels'] = stores_with_labels['store_labels'].str.replace('[', '').replace(\"'\", \"\").replace(\",\", \"\").replace(\"]\", \"\")\n"
     ]
    },
    {
     "data": {
      "text/plain": [
       "1    'case', 'iphone', 'leather']\n",
       "2         'bracelet', 'boutique']\n",
       "3                      'fitness']\n",
       "5                'beauty', 'bag']\n",
       "8                      'ceramic']\n",
       "Name: store_labels, dtype: object"
      ]
     },
     "execution_count": 10,
     "metadata": {},
     "output_type": "execute_result"
    }
   ],
   "source": [
    "#removing [\n",
    "stores_with_labels['store_labels'] = stores_with_labels['store_labels'].str.replace('[', '').replace(\"'\", \"\").replace(\",\", \"\").replace(\"]\", \"\")\n",
    "\n",
    "\n",
    "\n",
    "stores_with_labels['store_labels'].head()"
   ]
  },
  {
   "cell_type": "code",
   "execution_count": 11,
   "id": "067fe635",
   "metadata": {
    "ExecuteTime": {
     "end_time": "2022-03-25T16:19:39.388645Z",
     "start_time": "2022-03-25T16:19:39.222157Z"
    }
   },
   "outputs": [
    {
     "name": "stderr",
     "output_type": "stream",
     "text": [
      "/var/folders/q0/d4gqykqs2_z_10gmvbxcf1gc0000gn/T/ipykernel_1530/945135274.py:2: SettingWithCopyWarning: \n",
      "A value is trying to be set on a copy of a slice from a DataFrame.\n",
      "Try using .loc[row_indexer,col_indexer] = value instead\n",
      "\n",
      "See the caveats in the documentation: https://pandas.pydata.org/pandas-docs/stable/user_guide/indexing.html#returning-a-view-versus-a-copy\n",
      "  stores_with_labels['store_labels'] = stores_with_labels['store_labels'].str.replace(\"'\", \"\")\n"
     ]
    },
    {
     "data": {
      "text/plain": [
       "1    case, iphone, leather]\n",
       "2       bracelet, boutique]\n",
       "3                  fitness]\n",
       "5              beauty, bag]\n",
       "8                  ceramic]\n",
       "Name: store_labels, dtype: object"
      ]
     },
     "execution_count": 11,
     "metadata": {},
     "output_type": "execute_result"
    }
   ],
   "source": [
    "#removing '\n",
    "stores_with_labels['store_labels'] = stores_with_labels['store_labels'].str.replace(\"'\", \"\")\n",
    "\n",
    "\n",
    "\n",
    "stores_with_labels['store_labels'].head()"
   ]
  },
  {
   "cell_type": "code",
   "execution_count": 12,
   "id": "573ff298",
   "metadata": {
    "ExecuteTime": {
     "end_time": "2022-03-25T16:19:39.531345Z",
     "start_time": "2022-03-25T16:19:39.389718Z"
    }
   },
   "outputs": [
    {
     "name": "stderr",
     "output_type": "stream",
     "text": [
      "/var/folders/q0/d4gqykqs2_z_10gmvbxcf1gc0000gn/T/ipykernel_1530/2127581764.py:2: SettingWithCopyWarning: \n",
      "A value is trying to be set on a copy of a slice from a DataFrame.\n",
      "Try using .loc[row_indexer,col_indexer] = value instead\n",
      "\n",
      "See the caveats in the documentation: https://pandas.pydata.org/pandas-docs/stable/user_guide/indexing.html#returning-a-view-versus-a-copy\n",
      "  stores_with_labels['store_labels'] = stores_with_labels['store_labels'].str.replace(\",\", \"\")\n"
     ]
    },
    {
     "data": {
      "text/plain": [
       "1    case iphone leather]\n",
       "2      bracelet boutique]\n",
       "3                fitness]\n",
       "5             beauty bag]\n",
       "8                ceramic]\n",
       "Name: store_labels, dtype: object"
      ]
     },
     "execution_count": 12,
     "metadata": {},
     "output_type": "execute_result"
    }
   ],
   "source": [
    "#removing commas\n",
    "stores_with_labels['store_labels'] = stores_with_labels['store_labels'].str.replace(\",\", \"\")\n",
    "\n",
    "\n",
    "\n",
    "stores_with_labels['store_labels'].head()"
   ]
  },
  {
   "cell_type": "code",
   "execution_count": 13,
   "id": "20b175b9",
   "metadata": {
    "ExecuteTime": {
     "end_time": "2022-03-25T16:19:39.659233Z",
     "start_time": "2022-03-25T16:19:39.532385Z"
    }
   },
   "outputs": [
    {
     "name": "stderr",
     "output_type": "stream",
     "text": [
      "/var/folders/q0/d4gqykqs2_z_10gmvbxcf1gc0000gn/T/ipykernel_1530/4117054878.py:2: FutureWarning: The default value of regex will change from True to False in a future version. In addition, single character regular expressions will *not* be treated as literal strings when regex=True.\n",
      "  stores_with_labels['store_labels'] = stores_with_labels['store_labels'].str.replace(\"]\", \"\")\n",
      "/var/folders/q0/d4gqykqs2_z_10gmvbxcf1gc0000gn/T/ipykernel_1530/4117054878.py:2: SettingWithCopyWarning: \n",
      "A value is trying to be set on a copy of a slice from a DataFrame.\n",
      "Try using .loc[row_indexer,col_indexer] = value instead\n",
      "\n",
      "See the caveats in the documentation: https://pandas.pydata.org/pandas-docs/stable/user_guide/indexing.html#returning-a-view-versus-a-copy\n",
      "  stores_with_labels['store_labels'] = stores_with_labels['store_labels'].str.replace(\"]\", \"\")\n"
     ]
    },
    {
     "data": {
      "text/plain": [
       "1    case iphone leather\n",
       "2      bracelet boutique\n",
       "3                fitness\n",
       "5             beauty bag\n",
       "8                ceramic\n",
       "Name: store_labels, dtype: object"
      ]
     },
     "execution_count": 13,
     "metadata": {},
     "output_type": "execute_result"
    }
   ],
   "source": [
    "#removing ]\n",
    "stores_with_labels['store_labels'] = stores_with_labels['store_labels'].str.replace(\"]\", \"\")\n",
    "\n",
    "\n",
    "\n",
    "stores_with_labels['store_labels'].head()"
   ]
  },
  {
   "cell_type": "markdown",
   "id": "47adad84",
   "metadata": {},
   "source": [
    "Now that the data has been stripped, I can tokenize the labels using a Count Vectorizer"
   ]
  },
  {
   "cell_type": "code",
   "execution_count": 14,
   "id": "61e78c6f",
   "metadata": {
    "ExecuteTime": {
     "end_time": "2022-03-25T16:19:39.662850Z",
     "start_time": "2022-03-25T16:19:39.660228Z"
    }
   },
   "outputs": [
    {
     "name": "stdout",
     "output_type": "stream",
     "text": [
      "There are 422720 stores with label tags\n"
     ]
    }
   ],
   "source": [
    "print(f\"There are {stores_with_labels.shape[0]} stores with label tags\")"
   ]
  },
  {
   "cell_type": "code",
   "execution_count": 15,
   "id": "e507da25",
   "metadata": {
    "ExecuteTime": {
     "end_time": "2022-03-25T16:19:39.965429Z",
     "start_time": "2022-03-25T16:19:39.663850Z"
    }
   },
   "outputs": [],
   "source": [
    "from sklearn.feature_extraction.text import CountVectorizer "
   ]
  },
  {
   "cell_type": "code",
   "execution_count": 16,
   "id": "f926a7db",
   "metadata": {
    "ExecuteTime": {
     "end_time": "2022-03-25T16:19:42.915405Z",
     "start_time": "2022-03-25T16:19:39.966260Z"
    }
   },
   "outputs": [],
   "source": [
    "#vectorizing words\n",
    "countvectorizer = CountVectorizer(stop_words='english', min_df=100)\n",
    "\n",
    "#fitting to store labels\n",
    "vectorizer = countvectorizer.fit(stores_with_labels['store_labels'])\n",
    "\n",
    "#vectorized tags\n",
    "tags_vectorized = vectorizer.transform(stores_with_labels['store_labels'])"
   ]
  },
  {
   "cell_type": "markdown",
   "id": "8fea6577",
   "metadata": {},
   "source": [
    "There are 689 tags that are in at least 100 stores"
   ]
  },
  {
   "cell_type": "code",
   "execution_count": 17,
   "id": "82c4b8d0",
   "metadata": {
    "ExecuteTime": {
     "end_time": "2022-03-25T16:19:43.584522Z",
     "start_time": "2022-03-25T16:19:42.916313Z"
    }
   },
   "outputs": [],
   "source": [
    "#to array\n",
    "tags_array = tags_vectorized.toarray()"
   ]
  },
  {
   "cell_type": "code",
   "execution_count": 18,
   "id": "477a40a0",
   "metadata": {
    "ExecuteTime": {
     "end_time": "2022-03-25T16:19:43.600710Z",
     "start_time": "2022-03-25T16:19:43.588794Z"
    }
   },
   "outputs": [],
   "source": [
    "#creating dataframe of stores and vectorized words\n",
    "tags_df = pd.DataFrame(tags_array, columns=vectorizer.get_feature_names())\n",
    "\n",
    "tags_df.set_index(stores_with_labels['store_title'])\n",
    "tags_df.head()"
   ]
  },
  {
   "cell_type": "markdown",
   "id": "503fde59",
   "metadata": {},
   "source": [
    "Now that the labels have been tokenized. I can create a list of the counts of each word. Once that list is created I can combine that with the feature names to create a data frame showcasing the the frequency of each label tag."
   ]
  },
  {
   "cell_type": "code",
   "execution_count": 19,
   "id": "27573ddc",
   "metadata": {
    "ExecuteTime": {
     "end_time": "2022-03-25T16:19:43.604715Z",
     "start_time": "2022-03-25T16:19:43.601843Z"
    }
   },
   "outputs": [],
   "source": [
    "#counting tag appearances\n",
    "tag_counts = []\n",
    "\n",
    "for col in tags_df.columns:\n",
    "    \n",
    "    tag_count = tags_df[col].sum()\n",
    "    \n",
    "    tag_counts.append(tag_count)"
   ]
  },
  {
   "cell_type": "code",
   "execution_count": 20,
   "id": "49e4ed41",
   "metadata": {
    "ExecuteTime": {
     "end_time": "2022-03-25T16:19:43.646306Z",
     "start_time": "2022-03-25T16:19:43.608669Z"
    },
    "scrolled": true
   },
   "outputs": [
    {
     "ename": "NameError",
     "evalue": "name 'tag_counts' is not defined",
     "output_type": "error",
     "traceback": [
      "\u001b[0;31m---------------------------------------------------------------------------\u001b[0m",
      "\u001b[0;31mNameError\u001b[0m                                 Traceback (most recent call last)",
      "\u001b[0;32m/var/folders/q0/d4gqykqs2_z_10gmvbxcf1gc0000gn/T/ipykernel_1530/1851623265.py\u001b[0m in \u001b[0;36m<module>\u001b[0;34m\u001b[0m\n\u001b[1;32m      1\u001b[0m labels_counts_df = pd.DataFrame({'Label': vectorizer.get_feature_names(),\n\u001b[0;32m----> 2\u001b[0;31m                                  'Total Count': tag_counts})\n\u001b[0m",
      "\u001b[0;31mNameError\u001b[0m: name 'tag_counts' is not defined"
     ]
    }
   ],
   "source": [
    "#creating df of labels and appearnances\n",
    "labels_counts_df = pd.DataFrame({'Label': vectorizer.get_feature_names(),\n",
    "                                 'Total Count': tag_counts})"
   ]
  },
  {
   "cell_type": "code",
   "execution_count": null,
   "id": "a08a60e2",
   "metadata": {
    "ExecuteTime": {
     "end_time": "2022-03-25T16:19:43.648261Z",
     "start_time": "2022-03-25T16:19:43.648252Z"
    }
   },
   "outputs": [],
   "source": [
    "#check step\n",
    "labels_counts_df"
   ]
  },
  {
   "cell_type": "markdown",
   "id": "87764ca2",
   "metadata": {},
   "source": [
    "I am now going to sort them to find the top 25 and bottom 25."
   ]
  },
  {
   "cell_type": "code",
   "execution_count": null,
   "id": "c5428f2c",
   "metadata": {
    "ExecuteTime": {
     "end_time": "2022-03-25T16:19:43.648755Z",
     "start_time": "2022-03-25T16:19:43.648748Z"
    }
   },
   "outputs": [],
   "source": [
    "#sorting by total counts\n",
    "sorted_label_counts = labels_counts_df.sort_values('Total Count', ascending=False)\n",
    "\n",
    "sorted_label_counts"
   ]
  },
  {
   "cell_type": "code",
   "execution_count": null,
   "id": "229222c1",
   "metadata": {
    "ExecuteTime": {
     "end_time": "2022-03-25T16:19:43.649324Z",
     "start_time": "2022-03-25T16:19:43.649316Z"
    }
   },
   "outputs": [],
   "source": [
    "#top 25\n",
    "\n",
    "top25 = sorted_label_counts.head(25)\n",
    "\n",
    "plt.figure(figsize=(15, 8))\n",
    "plt.barh(top25['Label'], top25['Total Count'])\n",
    "plt.show()"
   ]
  },
  {
   "cell_type": "code",
   "execution_count": null,
   "id": "4910b858",
   "metadata": {
    "ExecuteTime": {
     "end_time": "2022-03-25T16:19:43.649971Z",
     "start_time": "2022-03-25T16:19:43.649964Z"
    }
   },
   "outputs": [],
   "source": [
    "#bottom 25\n",
    "\n",
    "bottom25 = sorted_label_counts.tail(25)\n",
    "\n",
    "plt.figure(figsize=(15, 8))\n",
    "plt.barh(bottom25['Label'], bottom25['Total Count'], color ='r')\n",
    "plt.show()"
   ]
  },
  {
   "cell_type": "code",
   "execution_count": null,
   "id": "81dccb89",
   "metadata": {},
   "outputs": [],
   "source": []
  }
 ],
 "metadata": {
  "hide_input": false,
  "kernelspec": {
   "display_name": "deeplearning",
   "language": "python",
   "name": "deeplearning"
  },
  "language_info": {
   "codemirror_mode": {
    "name": "ipython",
    "version": 3
   },
   "file_extension": ".py",
   "mimetype": "text/x-python",
   "name": "python",
   "nbconvert_exporter": "python",
   "pygments_lexer": "ipython3",
   "version": "3.8.2"
  },
  "toc": {
   "base_numbering": 1,
   "nav_menu": {},
   "number_sections": true,
   "sideBar": true,
   "skip_h1_title": false,
   "title_cell": "Table of Contents",
   "title_sidebar": "Contents",
   "toc_cell": false,
   "toc_position": {},
   "toc_section_display": true,
   "toc_window_display": false
  }
 },
 "nbformat": 4,
 "nbformat_minor": 5
}
